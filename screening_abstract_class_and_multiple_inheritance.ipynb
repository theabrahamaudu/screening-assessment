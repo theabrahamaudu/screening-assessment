{
 "cells": [
  {
   "cell_type": "code",
   "execution_count": 14,
   "metadata": {},
   "outputs": [],
   "source": [
    "#demonstration of abstract classes\n",
    "\n",
    "#abstract class for an app\n",
    "from abc import ABC, abstractmethod\n",
    "class backend:\n",
    "    \n",
    "    @abstractmethod\n",
    "    def data_download_from_API(self):\n",
    "        pass\n",
    "    @abstractmethod\n",
    "    def data_cleaner(self):\n",
    "        pass\n",
    "    @abstractmethod\n",
    "    def outcome_predictor(self):\n",
    "        pass\n",
    "    @abstractmethod\n",
    "    def display_outcome(self):\n",
    "        pass\n",
    "    @abstractmethod\n",
    "    def user_data(self):\n",
    "        pass\n",
    "    @abstractmethod\n",
    "    def create_db_conn(self):\n",
    "        pass\n",
    "    \n",
    "class ui(backend):\n",
    "    \n",
    "    def data_download_from_API(self):\n",
    "        API = input(\"API: \")\n",
    "        print ('random data from [API: \"%s\"]'%API)\n",
    "        \n",
    "class db(backend):\n",
    "    \n",
    "    def create_db_conn(self):\n",
    "        hostname = input('hostname: ')\n",
    "        print (\"db = hostname = %s\"%hostname,\"password = fgdg, ...\")\n",
    "        if hostname!= \"\":\n",
    "            print('login successful')\n",
    "        else:\n",
    "            print('database login failed')\n"
   ]
  },
  {
   "cell_type": "code",
   "execution_count": null,
   "metadata": {},
   "outputs": [],
   "source": [
    "#multiple inheritance demo\n",
    "\n",
    "class download:       \n",
    "    \n",
    "    def iot_data():\n",
    "        print ('data from IoT platform')\n",
    "        \n",
    "class user:\n",
    "    \n",
    "    def predict():\n",
    "        import random as r\n",
    "        rand = r.randint(1,10)\n",
    "        print ('you have %s months of runway'%rand)\n",
    "        \n",
    "class interface(download,user):\n",
    "    pass"
   ]
  },
  {
   "cell_type": "code",
   "execution_count": null,
   "metadata": {},
   "outputs": [],
   "source": []
  },
  {
   "cell_type": "code",
   "execution_count": null,
   "metadata": {},
   "outputs": [],
   "source": []
  },
  {
   "cell_type": "code",
   "execution_count": null,
   "metadata": {},
   "outputs": [],
   "source": []
  },
  {
   "cell_type": "code",
   "execution_count": null,
   "metadata": {},
   "outputs": [],
   "source": []
  },
  {
   "cell_type": "code",
   "execution_count": null,
   "metadata": {},
   "outputs": [],
   "source": []
  }
 ],
 "metadata": {
  "kernelspec": {
   "display_name": "Python 3",
   "language": "python",
   "name": "python3"
  },
  "language_info": {
   "codemirror_mode": {
    "name": "ipython",
    "version": 3
   },
   "file_extension": ".py",
   "mimetype": "text/x-python",
   "name": "python",
   "nbconvert_exporter": "python",
   "pygments_lexer": "ipython3",
   "version": "3.7.3"
  }
 },
 "nbformat": 4,
 "nbformat_minor": 2
}
