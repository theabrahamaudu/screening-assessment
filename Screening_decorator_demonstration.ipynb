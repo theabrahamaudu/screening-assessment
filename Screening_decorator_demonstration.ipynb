{
 "cells": [
  {
   "cell_type": "code",
   "execution_count": null,
   "metadata": {},
   "outputs": [],
   "source": [
    "#decorator demonstration\n",
    "\n",
    "def user_data(func):\n",
    "\n",
    "    def login_protocol():\n",
    "        print ('db_conn...')\n",
    "        print ('user details entered:', func())\n",
    "        func()\n",
    "        print('login successful')\n",
    "        print('display %s\\'s user data'%func())\n",
    "    return login_protocol()\n",
    "\n",
    "@user_data\n",
    "def login_details(name = input('username: ')):\n",
    "    return name"
   ]
  }
 ],
 "metadata": {
  "kernelspec": {
   "display_name": "Python 3",
   "language": "python",
   "name": "python3"
  },
  "language_info": {
   "codemirror_mode": {
    "name": "ipython",
    "version": 3
   },
   "file_extension": ".py",
   "mimetype": "text/x-python",
   "name": "python",
   "nbconvert_exporter": "python",
   "pygments_lexer": "ipython3",
   "version": "3.7.3"
  }
 },
 "nbformat": 4,
 "nbformat_minor": 2
}
